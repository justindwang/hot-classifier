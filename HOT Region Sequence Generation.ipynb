{
 "cells": [
  {
   "cell_type": "markdown",
   "metadata": {
    "colab_type": "text",
    "id": "__1JBcfGnOHj"
   },
   "source": [
    "# HOT and LOT Region Sequence Generation"
   ]
  },
  {
   "cell_type": "code",
   "execution_count": 1,
   "metadata": {},
   "outputs": [],
   "source": [
    "# File names\n",
    "sequence = 'male.hg19.fa'\n",
    "hot_regions = 'maphot_hs_selection_reg_cx_denP05_any.bed'\n",
    "output_hot = 'hot_regions_05_any.fa'\n",
    "output_lot = 'lot_regions_05_any.fa'"
   ]
  },
  {
   "cell_type": "code",
   "execution_count": 2,
   "metadata": {
    "colab": {},
    "colab_type": "code",
    "id": "vX2M_vUAnOHr",
    "outputId": "9e1819ee-c8d0-441c-f9cc-5e1bc8558716"
   },
   "outputs": [],
   "source": [
    "from Bio import SeqIO\n",
    "\n",
    "# Converting genome to a dictionary with chromosome keys\n",
    "record_dict = SeqIO.to_dict(SeqIO.parse(sequence, \"fasta\"))"
   ]
  },
  {
   "cell_type": "code",
   "execution_count": 3,
   "metadata": {},
   "outputs": [],
   "source": [
    "# Parsing BED file\n",
    "with open(hot_regions) as f:\n",
    "    lines = f.readlines()\n",
    "    lines = [line.rstrip().split()[0:4] for line in lines]"
   ]
  },
  {
   "cell_type": "code",
   "execution_count": 4,
   "metadata": {},
   "outputs": [
    {
     "data": {
      "text/plain": [
       "Text(0, 0.5, 'Frequency')"
      ]
     },
     "execution_count": 4,
     "metadata": {},
     "output_type": "execute_result"
    },
    {
     "data": {
      "image/png": "[encoded data removed]",
      "text/plain": [
       "<Figure size 432x288 with 1 Axes>"
      ]
     },
     "metadata": {
      "needs_background": "light"
     },
     "output_type": "display_data"
    }
   ],
   "source": [
    "import numpy as np\n",
    "import matplotlib.pyplot as plt\n",
    "\n",
    "# Plotting the distribution of hot region lengths\n",
    "sizes = []\n",
    "for entry in lines:\n",
    "    sizes.append(int(entry[2]) - int(entry[1]))\n",
    "arr = np.array(sizes)\n",
    "\n",
    "plt.hist(arr, bins=20)\n",
    "plt.title('Distribution of HOT Region Lengths')\n",
    "plt.xlabel('BP Length')\n",
    "plt.ylabel('Frequency')"
   ]
  },
  {
   "cell_type": "code",
   "execution_count": 5,
   "metadata": {},
   "outputs": [],
   "source": [
    "index = '0'\n",
    "curr_chromosome = 'chr1'\n",
    "negative_set_indices = []\n",
    "\n",
    "# Looping over chromosomes to find LOT region index ranges\n",
    "for entry in lines:\n",
    "    if entry[0] != curr_chromosome:\n",
    "        negative_set_indices.append([curr_chromosome, index, len(record_dict[curr_chromosome].seq)])\n",
    "        index = '0'\n",
    "        curr_chromosome = entry[0]\n",
    "    negative_set_indices.append([curr_chromosome, index, entry[1]])\n",
    "    index = entry[2]"
   ]
  },
  {
   "cell_type": "code",
   "execution_count": 6,
   "metadata": {},
   "outputs": [],
   "source": [
    "import random\n",
    "\n",
    "# Approximate number of negative test sets to generate - e.g. (5 * #positive)\n",
    "multiplier = 1\n",
    "\n",
    "negative_set_indices_resized = []\n",
    "\n",
    "# Iterating over possible ranges to get LOT regions\n",
    "for x in negative_set_indices:\n",
    "    curr_set = set()\n",
    "    # Random size from HOT region distribution\n",
    "    l = random.choice(sizes)\n",
    "    # Ensuring that the region is long enough to sample from\n",
    "    if int(x[2])-l < int(x[1]):\n",
    "        continue\n",
    "    num = min(multiplier,(int(x[2])-int(x[1]))//10)\n",
    "    for _ in range(num):\n",
    "        a = random.randint(int(x[1]), int(x[2])-l)\n",
    "        # Ensuring nonoverlapping samples\n",
    "        while any(a>=i and a<= i+l for i in curr_set):\n",
    "            a = random.randint(int(x[1]), int(x[2])-l)\n",
    "        curr_set.add(a)\n",
    "    lis = sorted(list(curr_set))\n",
    "    for y in lis:\n",
    "        negative_set_indices_resized.append([x[0], str(y), str(y+l)])"
   ]
  },
  {
   "cell_type": "code",
   "execution_count": 7,
   "metadata": {},
   "outputs": [
    {
     "name": "stdout",
     "output_type": "stream",
     "text": [
      "       Chromosome      Start        End          Name\n",
      "0            chr1     713833     714630      HOT-GM.1\n",
      "1            chr1     805156     805471      HOT-GM.2\n",
      "2            chr1     839882     840421      HOT-GM.3\n",
      "3            chr1     840584     841020      HOT-GM.4\n",
      "4            chr1     894181     894983      HOT-GM.5\n",
      "...           ...        ...        ...           ...\n",
      "129351       chrX  155110631  155111614  HOT-K5.31339\n",
      "129352       chrX  155117856  155118220  HOT-K5.31340\n",
      "129353       chrX  155123251  155123707  HOT-K5.31341\n",
      "129354       chrX  155227140  155227504  HOT-K5.31342\n",
      "129355       chrX  155231177  155231689  HOT-K5.31343\n",
      "\n",
      "[129356 rows x 4 columns]\n",
      "       Chromosome      Start        End\n",
      "0            chr1          0     713833\n",
      "1            chr1     714630     805156\n",
      "2            chr1     805471     839882\n",
      "3            chr1     840421     840584\n",
      "4            chr1     841020     894181\n",
      "...           ...        ...        ...\n",
      "129467       chrX  154665003  155110631\n",
      "129468       chrX  155111614  155117856\n",
      "129469       chrX  155118220  155123251\n",
      "129470       chrX  155123707  155227140\n",
      "129471       chrX  155227504  155231177\n",
      "\n",
      "[129472 rows x 3 columns]\n",
      "       Chromosome      Start        End\n",
      "0            chr1     498111     498511\n",
      "1            chr1     743886     745261\n",
      "2            chr1     830744     831060\n",
      "3            chr1     855248     856046\n",
      "4            chr1     909175     909835\n",
      "...           ...        ...        ...\n",
      "123790       chrX  154874053  154874323\n",
      "123791       chrX  155111900  155112100\n",
      "123792       chrX  155122251  155123231\n",
      "123793       chrX  155124008  155124427\n",
      "123794       chrX  155229438  155229818\n",
      "\n",
      "[123795 rows x 3 columns]\n"
     ]
    }
   ],
   "source": [
    "import pandas as pd\n",
    "\n",
    "# Printing HOT region indices, LOT region indices, and LOT region resized indices\n",
    "df1 = pd.DataFrame(lines, columns = ['Chromosome', 'Start', 'End', 'Name'])\n",
    "print(df1)\n",
    "df2 = pd.DataFrame(negative_set_indices, columns = ['Chromosome', 'Start', 'End'])\n",
    "print(df2)\n",
    "df3 = pd.DataFrame(negative_set_indices_resized, columns = ['Chromosome', 'Start', 'End'])\n",
    "print(df3)"
   ]
  },
  {
   "cell_type": "code",
   "execution_count": 8,
   "metadata": {},
   "outputs": [],
   "source": [
    "# Looking up base pair sequence coordinates and building output file contents\n",
    "\n",
    "# Building HOT Regions fasta file\n",
    "hot = ''\n",
    "for entry in lines:\n",
    "    sequence = str(record_dict[entry[0]][int(entry[1]):int(entry[2])].seq)\n",
    "    # Removing any newlines from stored genome entry\n",
    "    sequence_no_newline = sequence.replace('\\n', '')\n",
    "    hot = hot + '>' + entry[3] + '\\n' + sequence_no_newline + '\\n'\n",
    "# Stripping last newline of file\n",
    "hot =  hot.rstrip('\\n') \n",
    "with open(output_hot,'w+') as f:\n",
    "    f.write(hot)\n",
    "    \n",
    "# Building LOT Regions fasta file\n",
    "lot = ''\n",
    "i = 1\n",
    "for entry in negative_set_indices_resized:\n",
    "    sequence = str(record_dict[entry[0]][int(entry[1]):int(entry[2])].seq)\n",
    "    # Removing any newlines from stored genome entry\n",
    "    sequence_no_newline = sequence.replace('\\n', '')\n",
    "    lot = lot + '>LOT.' + str(i) + '\\n' + sequence_no_newline + '\\n'\n",
    "    i += 1\n",
    "# Stripping last newline of file\n",
    "lot =  lot.rstrip('\\n') \n",
    "with open(output_lot,'w+') as f:\n",
    "    f.write(lot)"
   ]
  },
  {
   "cell_type": "code",
   "execution_count": null,
   "metadata": {},
   "outputs": [],
   "source": []
  }
 ],
 "metadata": {
  "colab": {
   "collapsed_sections": [],
   "name": "1A. Distribution of First Digits.ipynb",
   "provenance": []
  },
  "kernelspec": {
   "display_name": "Python 3 (ipykernel)",
   "language": "python",
   "name": "python3"
  },
  "language_info": {
   "codemirror_mode": {
    "name": "ipython",
    "version": 3
   },
   "file_extension": ".py",
   "mimetype": "text/x-python",
   "name": "python",
   "nbconvert_exporter": "python",
   "pygments_lexer": "ipython3",
   "version": "3.8.11"
  }
 },
 "nbformat": 4,
 "nbformat_minor": 4
}
