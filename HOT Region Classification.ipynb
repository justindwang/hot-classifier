{
 "cells": [
  {
   "cell_type": "markdown",
   "metadata": {
    "colab_type": "text",
    "id": "__1JBcfGnOHj"
   },
   "source": [
    "# HOT Region Classification"
   ]
  },
  {
   "cell_type": "markdown",
   "metadata": {},
   "source": [
    "The following cell defines file names and parameters.\n",
    "\n",
    "- **kmer_length** denotes the number of basepairs considered when converting sequences to kmers\n",
    "- **sampling_percentage** denotes the percentage of sequences that will be used to build the model\n",
    "- **seed** is for reproducing results"
   ]
  },
  {
   "cell_type": "code",
   "execution_count": 1,
   "metadata": {},
   "outputs": [],
   "source": [
    "input_hot = 'hot_regions_01_all.fa'\n",
    "input_lot = 'lot_regions_01_all.fa'\n",
    "kmer_length = 4\n",
    "sampling_percentage = 1\n",
    "seed = 35"
   ]
  },
  {
   "cell_type": "markdown",
   "metadata": {},
   "source": [
    "The following cell includes all imports used in this notebook."
   ]
  },
  {
   "cell_type": "code",
   "execution_count": 2,
   "metadata": {},
   "outputs": [],
   "source": [
    "import pandas as pd\n",
    "import matplotlib.pyplot as plt\n",
    "import seaborn as sns\n",
    "\n",
    "from Bio.SeqIO.FastaIO import SimpleFastaParser\n",
    "from sklearn.utils import resample\n",
    "from sklearn.feature_extraction.text import CountVectorizer\n",
    "from sklearn.preprocessing import normalize, MaxAbsScaler\n",
    "from sklearn.model_selection import train_test_split\n",
    "from sklearn.svm import SVC\n",
    "from sklearn.metrics import accuracy_score, confusion_matrix, classification_report\n",
    "from sklearn.model_selection import cross_validate\n",
    "from sklearn.ensemble import RandomForestClassifier"
   ]
  },
  {
   "cell_type": "markdown",
   "metadata": {},
   "source": [
    "The following cell parses the input Fasta files for HOT and LOT sequences and builds lists of the sequences."
   ]
  },
  {
   "cell_type": "code",
   "execution_count": 3,
   "metadata": {},
   "outputs": [],
   "source": [
    "with open(input_hot) as fasta_file:\n",
    "    hot_sequences = []\n",
    "    for title, sequence in SimpleFastaParser(fasta_file):\n",
    "        hot_sequences.append(sequence)\n",
    "\n",
    "with open(input_lot) as fasta_file:\n",
    "    lot_sequences = []\n",
    "    for title, sequence in SimpleFastaParser(fasta_file):\n",
    "        lot_sequences.append(sequence)"
   ]
  },
  {
   "cell_type": "markdown",
   "metadata": {},
   "source": [
    "The following cell creates dataframes for the HOT and LOT sequences with the following labels:\n",
    "- *1* for HOT sequences (positive class)\n",
    "- *0* for LOT sequences (negative class)\n",
    "\n",
    "The sequence distribution is then displayed."
   ]
  },
  {
   "cell_type": "code",
   "execution_count": 4,
   "metadata": {},
   "outputs": [
    {
     "data": {
      "text/plain": [
       "0    1512\n",
       "1    1505\n",
       "Name: label, dtype: int64"
      ]
     },
     "execution_count": 4,
     "metadata": {},
     "output_type": "execute_result"
    }
   ],
   "source": [
    "df_hot = pd.DataFrame(hot_sequences, columns=['sequence'])\n",
    "df_hot['label'] = 1\n",
    "\n",
    "df_lot = pd.DataFrame(lot_sequences, columns=['sequence'])\n",
    "df_lot['label'] = 0\n",
    "\n",
    "temp = pd.concat([df_hot, df_lot])\n",
    "temp.label.value_counts()"
   ]
  },
  {
   "cell_type": "markdown",
   "metadata": {},
   "source": [
    "The following cell performs downsampling on the majority class using **seed** and aggregates the sequences inside *df_resample*. The number of samples in each class are then displayed."
   ]
  },
  {
   "cell_type": "code",
   "execution_count": 5,
   "metadata": {},
   "outputs": [
    {
     "data": {
      "text/plain": [
       "0    1505\n",
       "1    1505\n",
       "Name: label, dtype: int64"
      ]
     },
     "execution_count": 5,
     "metadata": {},
     "output_type": "execute_result"
    }
   ],
   "source": [
    "if df_hot.shape[0] < df_lot.shape[0]:\n",
    "    df_minority = df_hot.sample(n=int(df_hot.shape[0]*sampling_percentage), random_state=seed)\n",
    "    df_majority = df_lot.sample(n=int(df_lot.shape[0]*sampling_percentage), random_state=seed)\n",
    "else:\n",
    "    df_majority = df_hot.sample(n=int(df_hot.shape[0]*sampling_percentage), random_state=seed)\n",
    "    df_minority = df_lot.sample(n=int(df_lot.shape[0]*sampling_percentage), random_state=seed)\n",
    "\n",
    "df_majority_downsampled = resample(df_majority, replace=False, n_samples=df_minority.shape[0], random_state=seed)\n",
    "\n",
    "df_resample = pd.concat([df_majority_downsampled, df_minority])\n",
    "df_resample.label.value_counts()"
   ]
  },
  {
   "cell_type": "markdown",
   "metadata": {},
   "source": [
    "The following cell defines a helper function that returns the extracted kmers from the sequences, which is used to replace the HOT and LOT sequences by their extracted kmers in list format. The updated dataframe is displayed below."
   ]
  },
  {
   "cell_type": "code",
   "execution_count": 6,
   "metadata": {},
   "outputs": [
    {
     "data": {
      "text/html": [
       "<div>\n",
       "<style scoped>\n",
       "    .dataframe tbody tr th:only-of-type {\n",
       "        vertical-align: middle;\n",
       "    }\n",
       "\n",
       "    .dataframe tbody tr th {\n",
       "        vertical-align: top;\n",
       "    }\n",
       "\n",
       "    .dataframe thead th {\n",
       "        text-align: right;\n",
       "    }\n",
       "</style>\n",
       "<table border=\"1\" class=\"dataframe\">\n",
       "  <thead>\n",
       "    <tr style=\"text-align: right;\">\n",
       "      <th></th>\n",
       "      <th>label</th>\n",
       "      <th>kmers</th>\n",
       "    </tr>\n",
       "  </thead>\n",
       "  <tbody>\n",
       "    <tr>\n",
       "      <th>0</th>\n",
       "      <td>0</td>\n",
       "      <td>[taga, agat, gatc, atcc, tccc, ccca, ccac, cac...</td>\n",
       "    </tr>\n",
       "    <tr>\n",
       "      <th>1</th>\n",
       "      <td>0</td>\n",
       "      <td>[acta, ctaa, taat, aatc, atcc, tccc, ccca, cca...</td>\n",
       "    </tr>\n",
       "    <tr>\n",
       "      <th>2</th>\n",
       "      <td>0</td>\n",
       "      <td>[tttt, tttt, tttt, tttt, tttt, tttt, tttt, ttt...</td>\n",
       "    </tr>\n",
       "    <tr>\n",
       "      <th>3</th>\n",
       "      <td>0</td>\n",
       "      <td>[gtta, ttaa, taaa, aaag, aagg, agga, ggat, gat...</td>\n",
       "    </tr>\n",
       "    <tr>\n",
       "      <th>4</th>\n",
       "      <td>0</td>\n",
       "      <td>[agaa, gaag, aagg, aggc, ggca, gcag, caga, aga...</td>\n",
       "    </tr>\n",
       "  </tbody>\n",
       "</table>\n",
       "</div>"
      ],
      "text/plain": [
       "   label                                              kmers\n",
       "0      0  [taga, agat, gatc, atcc, tccc, ccca, ccac, cac...\n",
       "1      0  [acta, ctaa, taat, aatc, atcc, tccc, ccca, cca...\n",
       "2      0  [tttt, tttt, tttt, tttt, tttt, tttt, tttt, ttt...\n",
       "3      0  [gtta, ttaa, taaa, aaag, aagg, agga, ggat, gat...\n",
       "4      0  [agaa, gaag, aagg, aggc, ggca, gcag, caga, aga..."
      ]
     },
     "execution_count": 6,
     "metadata": {},
     "output_type": "execute_result"
    }
   ],
   "source": [
    "def kmers(seq, length):\n",
    "    return [seq[i:i+length].lower() for i in range(len(seq)-length+1)]\n",
    "\n",
    "df_resample['kmers'] = df_resample.apply(lambda a: kmers(a['sequence'], kmer_length), axis=1)\n",
    "df_resample.drop('sequence',axis=1, inplace=True)\n",
    "df_resample = df_resample.reset_index()\n",
    "df_resample.drop('index', axis=1, inplace=True)\n",
    "df_resample.head()"
   ]
  },
  {
   "cell_type": "markdown",
   "metadata": {},
   "source": [
    "The following cell converts each list of kmers into sentences to be fed into CountVectorizer. The labels are also saved to be fed into the classifers later on."
   ]
  },
  {
   "cell_type": "code",
   "execution_count": 7,
   "metadata": {},
   "outputs": [],
   "source": [
    "kmer_sentences = list(df_resample['kmers'])\n",
    "for x in range(len(kmer_sentences)):\n",
    "    kmer_sentences[x] = ' '.join(kmer_sentences[x])\n",
    "\n",
    "labels = df_resample.iloc[:,0].values"
   ]
  },
  {
   "cell_type": "markdown",
   "metadata": {},
   "source": [
    "The following cell counts kmer occurences in the sentences using CountVectorizer and performs Min-Max normalization on the vectors. The normalized kmer distributions are displayed below in lexicographic order."
   ]
  },
  {
   "cell_type": "code",
   "execution_count": 8,
   "metadata": {},
   "outputs": [
    {
     "data": {
      "text/html": [
       "<div>\n",
       "<style scoped>\n",
       "    .dataframe tbody tr th:only-of-type {\n",
       "        vertical-align: middle;\n",
       "    }\n",
       "\n",
       "    .dataframe tbody tr th {\n",
       "        vertical-align: top;\n",
       "    }\n",
       "\n",
       "    .dataframe thead th {\n",
       "        text-align: right;\n",
       "    }\n",
       "</style>\n",
       "<table border=\"1\" class=\"dataframe\">\n",
       "  <thead>\n",
       "    <tr style=\"text-align: right;\">\n",
       "      <th></th>\n",
       "      <th>aaaa</th>\n",
       "      <th>aaac</th>\n",
       "      <th>aaag</th>\n",
       "      <th>aaat</th>\n",
       "      <th>aaca</th>\n",
       "      <th>aacc</th>\n",
       "      <th>aacg</th>\n",
       "      <th>aact</th>\n",
       "      <th>aaga</th>\n",
       "      <th>aagc</th>\n",
       "      <th>...</th>\n",
       "      <th>ttcg</th>\n",
       "      <th>ttct</th>\n",
       "      <th>ttga</th>\n",
       "      <th>ttgc</th>\n",
       "      <th>ttgg</th>\n",
       "      <th>ttgt</th>\n",
       "      <th>ttta</th>\n",
       "      <th>tttc</th>\n",
       "      <th>tttg</th>\n",
       "      <th>tttt</th>\n",
       "    </tr>\n",
       "  </thead>\n",
       "  <tbody>\n",
       "    <tr>\n",
       "      <th>0</th>\n",
       "      <td>0.491870</td>\n",
       "      <td>0.241839</td>\n",
       "      <td>0.000000</td>\n",
       "      <td>0.584379</td>\n",
       "      <td>0.074589</td>\n",
       "      <td>0.032450</td>\n",
       "      <td>0.105928</td>\n",
       "      <td>0.195945</td>\n",
       "      <td>0.034350</td>\n",
       "      <td>0.060512</td>\n",
       "      <td>...</td>\n",
       "      <td>0.111883</td>\n",
       "      <td>0.000000</td>\n",
       "      <td>0.000000</td>\n",
       "      <td>0.365021</td>\n",
       "      <td>0.247532</td>\n",
       "      <td>0.000000</td>\n",
       "      <td>0.000000</td>\n",
       "      <td>0.000000</td>\n",
       "      <td>0.036348</td>\n",
       "      <td>0.000000</td>\n",
       "    </tr>\n",
       "    <tr>\n",
       "      <th>1</th>\n",
       "      <td>0.049169</td>\n",
       "      <td>0.676901</td>\n",
       "      <td>0.008897</td>\n",
       "      <td>0.093466</td>\n",
       "      <td>0.119298</td>\n",
       "      <td>0.008650</td>\n",
       "      <td>0.084712</td>\n",
       "      <td>0.365630</td>\n",
       "      <td>0.082410</td>\n",
       "      <td>0.048392</td>\n",
       "      <td>...</td>\n",
       "      <td>0.000000</td>\n",
       "      <td>0.070468</td>\n",
       "      <td>0.000000</td>\n",
       "      <td>0.218933</td>\n",
       "      <td>0.395906</td>\n",
       "      <td>0.060855</td>\n",
       "      <td>0.136487</td>\n",
       "      <td>0.000000</td>\n",
       "      <td>0.029068</td>\n",
       "      <td>0.000000</td>\n",
       "    </tr>\n",
       "    <tr>\n",
       "      <th>2</th>\n",
       "      <td>0.041935</td>\n",
       "      <td>0.082472</td>\n",
       "      <td>0.022765</td>\n",
       "      <td>0.039857</td>\n",
       "      <td>0.203491</td>\n",
       "      <td>0.029510</td>\n",
       "      <td>0.072248</td>\n",
       "      <td>0.089095</td>\n",
       "      <td>0.117141</td>\n",
       "      <td>0.041272</td>\n",
       "      <td>...</td>\n",
       "      <td>0.101746</td>\n",
       "      <td>0.330549</td>\n",
       "      <td>0.073697</td>\n",
       "      <td>0.062240</td>\n",
       "      <td>0.168828</td>\n",
       "      <td>0.285458</td>\n",
       "      <td>0.058203</td>\n",
       "      <td>0.000000</td>\n",
       "      <td>0.247910</td>\n",
       "      <td>0.091300</td>\n",
       "    </tr>\n",
       "    <tr>\n",
       "      <th>3</th>\n",
       "      <td>0.196676</td>\n",
       "      <td>0.128933</td>\n",
       "      <td>0.029657</td>\n",
       "      <td>0.155777</td>\n",
       "      <td>0.318129</td>\n",
       "      <td>0.069201</td>\n",
       "      <td>0.094124</td>\n",
       "      <td>0.452685</td>\n",
       "      <td>0.091567</td>\n",
       "      <td>0.043015</td>\n",
       "      <td>...</td>\n",
       "      <td>0.119298</td>\n",
       "      <td>0.211404</td>\n",
       "      <td>0.000000</td>\n",
       "      <td>0.243259</td>\n",
       "      <td>0.329922</td>\n",
       "      <td>0.040570</td>\n",
       "      <td>0.181983</td>\n",
       "      <td>0.122442</td>\n",
       "      <td>0.174407</td>\n",
       "      <td>0.071367</td>\n",
       "    </tr>\n",
       "    <tr>\n",
       "      <th>4</th>\n",
       "      <td>0.104771</td>\n",
       "      <td>0.247263</td>\n",
       "      <td>0.018959</td>\n",
       "      <td>0.238995</td>\n",
       "      <td>0.254206</td>\n",
       "      <td>0.022118</td>\n",
       "      <td>0.120338</td>\n",
       "      <td>0.178080</td>\n",
       "      <td>0.093655</td>\n",
       "      <td>0.048120</td>\n",
       "      <td>...</td>\n",
       "      <td>0.114393</td>\n",
       "      <td>0.180187</td>\n",
       "      <td>0.092064</td>\n",
       "      <td>0.093302</td>\n",
       "      <td>0.253084</td>\n",
       "      <td>0.038902</td>\n",
       "      <td>0.261749</td>\n",
       "      <td>0.078271</td>\n",
       "      <td>0.123878</td>\n",
       "      <td>0.000000</td>\n",
       "    </tr>\n",
       "  </tbody>\n",
       "</table>\n",
       "<p>5 rows × 263 columns</p>\n",
       "</div>"
      ],
      "text/plain": [
       "       aaaa      aaac      aaag      aaat      aaca      aacc      aacg  \\\n",
       "0  0.491870  0.241839  0.000000  0.584379  0.074589  0.032450  0.105928   \n",
       "1  0.049169  0.676901  0.008897  0.093466  0.119298  0.008650  0.084712   \n",
       "2  0.041935  0.082472  0.022765  0.039857  0.203491  0.029510  0.072248   \n",
       "3  0.196676  0.128933  0.029657  0.155777  0.318129  0.069201  0.094124   \n",
       "4  0.104771  0.247263  0.018959  0.238995  0.254206  0.022118  0.120338   \n",
       "\n",
       "       aact      aaga      aagc  ...      ttcg      ttct      ttga      ttgc  \\\n",
       "0  0.195945  0.034350  0.060512  ...  0.111883  0.000000  0.000000  0.365021   \n",
       "1  0.365630  0.082410  0.048392  ...  0.000000  0.070468  0.000000  0.218933   \n",
       "2  0.089095  0.117141  0.041272  ...  0.101746  0.330549  0.073697  0.062240   \n",
       "3  0.452685  0.091567  0.043015  ...  0.119298  0.211404  0.000000  0.243259   \n",
       "4  0.178080  0.093655  0.048120  ...  0.114393  0.180187  0.092064  0.093302   \n",
       "\n",
       "       ttgg      ttgt      ttta      tttc      tttg      tttt  \n",
       "0  0.247532  0.000000  0.000000  0.000000  0.036348  0.000000  \n",
       "1  0.395906  0.060855  0.136487  0.000000  0.029068  0.000000  \n",
       "2  0.168828  0.285458  0.058203  0.000000  0.247910  0.091300  \n",
       "3  0.329922  0.040570  0.181983  0.122442  0.174407  0.071367  \n",
       "4  0.253084  0.038902  0.261749  0.078271  0.123878  0.000000  \n",
       "\n",
       "[5 rows x 263 columns]"
      ]
     },
     "execution_count": 8,
     "metadata": {},
     "output_type": "execute_result"
    }
   ],
   "source": [
    "c = CountVectorizer(ngram_range=(1,1))\n",
    "x = c.fit_transform(kmer_sentences)\n",
    "\n",
    "x_normalized = normalize(x, norm='l1')\n",
    "scaler = MaxAbsScaler()\n",
    "x_scaled = scaler.fit_transform(x_normalized)\n",
    "scaled_df_unsorted = pd.DataFrame(x_scaled.toarray(), columns=c.vocabulary_)\n",
    "scaled_df = scaled_df_unsorted.reindex(sorted(scaled_df_unsorted.columns), axis=1)\n",
    "scaled_df.head()"
   ]
  },
  {
   "cell_type": "markdown",
   "metadata": {},
   "source": [
    "The following cell builds and tests the Support Vector Classifier on the kmer distribution data. The accuracy, classification report, and confusion matrix are displayed below."
   ]
  },
  {
   "cell_type": "code",
   "execution_count": 9,
   "metadata": {},
   "outputs": [
    {
     "name": "stdout",
     "output_type": "stream",
     "text": [
      "Accuracy using SVM = 0.9424778761061947\n",
      "              precision    recall  f1-score   support\n",
      "\n",
      "           0       0.95      0.94      0.94       228\n",
      "           1       0.94      0.95      0.94       224\n",
      "\n",
      "    accuracy                           0.94       452\n",
      "   macro avg       0.94      0.94      0.94       452\n",
      "weighted avg       0.94      0.94      0.94       452\n",
      "\n"
     ]
    },
    {
     "data": {
      "image/png": "[encoded data removed]",
      "text/plain": [
       "<Figure size 640x480 with 2 Axes>"
      ]
     },
     "metadata": {},
     "output_type": "display_data"
    }
   ],
   "source": [
    "clf = SVC(C=1.0, kernel='linear', gamma=0.05)\n",
    "\n",
    "X_train, X_test, Y_train, Y_test = train_test_split(x_scaled, labels, test_size = 0.15, random_state=seed)\n",
    "clf.fit(X_train, Y_train)\n",
    "Y_pred = clf.predict(X_test)\n",
    "print('Accuracy using SVM =', accuracy_score(Y_test, Y_pred))\n",
    "\n",
    "print(classification_report(Y_test, Y_pred))\n",
    "\n",
    "cf = confusion_matrix(Y_test, Y_pred)\n",
    "ax = plt.subplot()\n",
    "sns.heatmap(cf, annot=True, fmt='d', ax=ax, linewidths=5, cmap=\"Blues\", center=0)\n",
    "ax.set_xlabel('Predicted Labels')\n",
    "ax.set_ylabel('True Labels')\n",
    "ax.set_title('Confusion Matrix for SVM')\n",
    "ax.xaxis.set_ticklabels(['LOT', 'HOT'])\n",
    "ax.yaxis.set_ticklabels(['LOT', 'HOT'])\n",
    "plt.show()"
   ]
  },
  {
   "cell_type": "markdown",
   "metadata": {},
   "source": [
    "The following cell builds and tests a cross validated Support Vector Classifier on the kmer distribution data with 5 folds. Average accuracy, precision, recall, and f-1 scores are displayed below."
   ]
  },
  {
   "cell_type": "code",
   "execution_count": 10,
   "metadata": {},
   "outputs": [],
   "source": [
    "# scores = cross_validate(clf, x, labels, cv=5, scoring=['accuracy','precision','recall','f1'])\n",
    "# print(\"Cross validation produces an average of:\")\n",
    "# print(\"\\t%0.2f accuracy\" % scores['test_accuracy'].mean())\n",
    "# print(\"\\t%0.2f precision\" % scores['test_precision'].mean())\n",
    "# print(\"\\t%0.2f recall\" % scores['test_recall'].mean())\n",
    "# print(\"\\t%0.2f f1\" % scores['test_f1'].mean())"
   ]
  },
  {
   "cell_type": "markdown",
   "metadata": {},
   "source": [
    "The following cell builds and tests the Random Forest Classifier on the kmer distribution data. The model's accuracy and classification report are displayed below."
   ]
  },
  {
   "cell_type": "code",
   "execution_count": 11,
   "metadata": {},
   "outputs": [
    {
     "name": "stdout",
     "output_type": "stream",
     "text": [
      "Accuracy using Random Forest = 0.9402654867256637\n",
      "              precision    recall  f1-score   support\n",
      "\n",
      "           0       0.95      0.93      0.94       228\n",
      "           1       0.93      0.95      0.94       224\n",
      "\n",
      "    accuracy                           0.94       452\n",
      "   macro avg       0.94      0.94      0.94       452\n",
      "weighted avg       0.94      0.94      0.94       452\n",
      "\n"
     ]
    }
   ],
   "source": [
    "clf = RandomForestClassifier(n_estimators = 300)\n",
    "clf.fit(X_train, Y_train)\n",
    "Y_pred = clf.predict(X_test)\n",
    "print('Accuracy using Random Forest =', accuracy_score(Y_test, Y_pred))\n",
    "\n",
    "print(classification_report(Y_test, Y_pred))"
   ]
  },
  {
   "cell_type": "markdown",
   "metadata": {},
   "source": [
    "The following cell builds and tests a cross validated Random Forest Classifier on the kmer distribution data with 5 folds. Average accuracy, precision, recall, and f-1 scores are displayed below."
   ]
  },
  {
   "cell_type": "code",
   "execution_count": 12,
   "metadata": {},
   "outputs": [],
   "source": [
    "# scores = cross_validate(clf, x, labels, cv=5, scoring=['accuracy','precision','recall','f1'])\n",
    "# print(\"Cross validation produces an average of:\")\n",
    "# print(\"\\t%0.2f accuracy\" % scores['test_accuracy'].mean())\n",
    "# print(\"\\t%0.2f precision\" % scores['test_precision'].mean())\n",
    "# print(\"\\t%0.2f recall\" % scores['test_recall'].mean())\n",
    "# print(\"\\t%0.2f f1\" % scores['test_f1'].mean())"
   ]
  },
  {
   "cell_type": "code",
   "execution_count": null,
   "metadata": {},
   "outputs": [],
   "source": []
  }
 ],
 "metadata": {
  "colab": {
   "collapsed_sections": [],
   "name": "1A. Distribution of First Digits.ipynb",
   "provenance": []
  },
  "kernelspec": {
   "display_name": "Python 3 (ipykernel)",
   "language": "python",
   "name": "python3"
  },
  "language_info": {
   "codemirror_mode": {
    "name": "ipython",
    "version": 3
   },
   "file_extension": ".py",
   "mimetype": "text/x-python",
   "name": "python",
   "nbconvert_exporter": "python",
   "pygments_lexer": "ipython3",
   "version": "3.9.13"
  }
 },
 "nbformat": 4,
 "nbformat_minor": 4
}
