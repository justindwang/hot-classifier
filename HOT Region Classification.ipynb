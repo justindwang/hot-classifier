{
 "cells": [
  {
   "cell_type": "markdown",
   "metadata": {
    "colab_type": "text",
    "id": "__1JBcfGnOHj"
   },
   "source": [
    "# HOT Region Classification"
   ]
  },
  {
   "cell_type": "markdown",
   "metadata": {},
   "source": [
    "The following cell defines file names and parameters.\n",
    "\n",
    "- **kmer_length** denotes the number of basepairs considered when converting sequences to kmers\n",
    "- **sampling_percentage** denotes the percentage of sequences that will be used to build the model\n",
    "- **seed** is for reproducing results"
   ]
  },
  {
   "cell_type": "code",
   "execution_count": 15,
   "metadata": {},
   "outputs": [],
   "source": [
    "input_hot = 'hot_regions_01_all.fa'\n",
    "input_lot = 'lot_regions_01_all.fa'\n",
    "kmer_length = 3\n",
    "sampling_percentage = 1\n",
    "seed = 35"
   ]
  },
  {
   "cell_type": "markdown",
   "metadata": {},
   "source": [
    "The following cell includes all imports used in this notebook."
   ]
  },
  {
   "cell_type": "code",
   "execution_count": null,
   "metadata": {},
   "outputs": [],
   "source": [
    "import pandas as pd\n",
    "import matplotlib.pyplot as plt\n",
    "import seaborn as sns\n",
    "\n",
    "from Bio.SeqIO.FastaIO import SimpleFastaParser\n",
    "from sklearn.utils import resample\n",
    "from sklearn.feature_extraction.text import CountVectorizer\n",
    "from sklearn.preprocessing import normalize, MaxAbsScaler\n",
    "from sklearn.model_selection import train_test_split\n",
    "from sklearn.svm import SVC\n",
    "from sklearn.metrics import accuracy_score, confusion_matrix, classification_report\n",
    "from sklearn.model_selection import cross_validate\n",
    "from sklearn.ensemble import RandomForestClassifier"
   ]
  },
  {
   "cell_type": "markdown",
   "metadata": {},
   "source": [
    "The following cell parses the input Fasta files for HOT and LOT sequences and builds lists of the sequences."
   ]
  },
  {
   "cell_type": "code",
   "execution_count": 2,
   "metadata": {},
   "outputs": [],
   "source": [
    "with open(input_hot) as fasta_file:\n",
    "    hot_sequences = []\n",
    "    for title, sequence in SimpleFastaParser(fasta_file):\n",
    "        hot_sequences.append(sequence)\n",
    "\n",
    "with open(input_lot) as fasta_file:\n",
    "    lot_sequences = []\n",
    "    for title, sequence in SimpleFastaParser(fasta_file):\n",
    "        lot_sequences.append(sequence)"
   ]
  },
  {
   "cell_type": "markdown",
   "metadata": {},
   "source": [
    "The following cell creates dataframes for the HOT and LOT sequences with the following labels:\n",
    "- *1* for HOT sequences (positive class)\n",
    "- *0* for LOT sequences (negative class)\n",
    "\n",
    "The sequence distribution is then displayed."
   ]
  },
  {
   "cell_type": "code",
   "execution_count": 16,
   "metadata": {},
   "outputs": [
    {
     "data": {
      "text/plain": [
       "0    3028\n",
       "1    1505\n",
       "Name: label, dtype: int64"
      ]
     },
     "execution_count": 16,
     "metadata": {},
     "output_type": "execute_result"
    }
   ],
   "source": [
    "df_hot = pd.DataFrame(hot_sequences, columns=['sequence'])\n",
    "df_hot['label'] = 1\n",
    "\n",
    "df_lot = pd.DataFrame(lot_sequences, columns=['sequence'])\n",
    "df_lot['label'] = 0\n",
    "\n",
    "temp = pd.concat([df_hot, df_lot])\n",
    "temp.label.value_counts()"
   ]
  },
  {
   "cell_type": "markdown",
   "metadata": {},
   "source": [
    "The following cell performs downsampling on the majority class using **seed** and aggregates the sequences inside *df_resample*. The number of samples in each class are then displayed."
   ]
  },
  {
   "cell_type": "code",
   "execution_count": 4,
   "metadata": {},
   "outputs": [
    {
     "data": {
      "text/plain": [
       "0    1505\n",
       "1    1505\n",
       "Name: label, dtype: int64"
      ]
     },
     "execution_count": 4,
     "metadata": {},
     "output_type": "execute_result"
    }
   ],
   "source": [
    "if df_hot.shape[0] < df_lot.shape[0]:\n",
    "    df_minority = df_hot.sample(n=int(df_hot.shape[0]*sampling_percentage), random_state=seed)\n",
    "    df_majority = df_lot.sample(n=int(df_lot.shape[0]*sampling_percentage), random_state=seed)\n",
    "else:\n",
    "    df_majority = df_hot.sample(n=int(df_hot.shape[0]*sampling_percentage), random_state=seed)\n",
    "    df_minority = df_lot.sample(n=int(df_lot.shape[0]*sampling_percentage), random_state=seed)\n",
    "\n",
    "df_majority_downsampled = resample(df_majority, replace=False, n_samples=df_minority.shape[0], random_state=seed)\n",
    "\n",
    "df_resample = pd.concat([df_majority_downsampled, df_minority])\n",
    "df_resample.label.value_counts()"
   ]
  },
  {
   "cell_type": "markdown",
   "metadata": {},
   "source": [
    "The following cell defines a helper function that returns the extracted kmers from the sequences, which is used to replace the HOT and LOT sequences by their extracted kmers in list format. The updated dataframe is displayed below."
   ]
  },
  {
   "cell_type": "code",
   "execution_count": 5,
   "metadata": {},
   "outputs": [
    {
     "data": {
      "text/html": [
       "<div>\n",
       "<style scoped>\n",
       "    .dataframe tbody tr th:only-of-type {\n",
       "        vertical-align: middle;\n",
       "    }\n",
       "\n",
       "    .dataframe tbody tr th {\n",
       "        vertical-align: top;\n",
       "    }\n",
       "\n",
       "    .dataframe thead th {\n",
       "        text-align: right;\n",
       "    }\n",
       "</style>\n",
       "<table border=\"1\" class=\"dataframe\">\n",
       "  <thead>\n",
       "    <tr style=\"text-align: right;\">\n",
       "      <th></th>\n",
       "      <th>label</th>\n",
       "      <th>kmers</th>\n",
       "    </tr>\n",
       "  </thead>\n",
       "  <tbody>\n",
       "    <tr>\n",
       "      <th>0</th>\n",
       "      <td>0</td>\n",
       "      <td>[tga, gag, agg, ggg, gga, gaa, aaa, aaa, aag, ...</td>\n",
       "    </tr>\n",
       "    <tr>\n",
       "      <th>1</th>\n",
       "      <td>0</td>\n",
       "      <td>[ctc, tct, ctg, tgc, gct, ctg, tgc, gct, ctt, ...</td>\n",
       "    </tr>\n",
       "    <tr>\n",
       "      <th>2</th>\n",
       "      <td>0</td>\n",
       "      <td>[ctg, tgc, gca, caa, aag, agg, gga, gag, agc, ...</td>\n",
       "    </tr>\n",
       "    <tr>\n",
       "      <th>3</th>\n",
       "      <td>0</td>\n",
       "      <td>[ttc, tcg, cga, gac, act, ctt, ttt, ttt, ttt, ...</td>\n",
       "    </tr>\n",
       "    <tr>\n",
       "      <th>4</th>\n",
       "      <td>0</td>\n",
       "      <td>[ttc, tct, ctc, tca, cag, agc, gcc, cca, cat, ...</td>\n",
       "    </tr>\n",
       "  </tbody>\n",
       "</table>\n",
       "</div>"
      ],
      "text/plain": [
       "   label                                              kmers\n",
       "0      0  [tga, gag, agg, ggg, gga, gaa, aaa, aaa, aag, ...\n",
       "1      0  [ctc, tct, ctg, tgc, gct, ctg, tgc, gct, ctt, ...\n",
       "2      0  [ctg, tgc, gca, caa, aag, agg, gga, gag, agc, ...\n",
       "3      0  [ttc, tcg, cga, gac, act, ctt, ttt, ttt, ttt, ...\n",
       "4      0  [ttc, tct, ctc, tca, cag, agc, gcc, cca, cat, ..."
      ]
     },
     "execution_count": 5,
     "metadata": {},
     "output_type": "execute_result"
    }
   ],
   "source": [
    "def kmers(seq, length):\n",
    "    return [seq[i:i+length].lower() for i in range(len(seq)-length+1)]\n",
    "\n",
    "df_resample['kmers'] = df_resample.apply(lambda a: kmers(a['sequence'], kmer_length), axis=1)\n",
    "df_resample.drop('sequence',axis=1, inplace=True)\n",
    "df_resample = df_resample.reset_index()\n",
    "df_resample.drop('index', axis=1, inplace=True)\n",
    "df_resample.head()"
   ]
  },
  {
   "cell_type": "markdown",
   "metadata": {},
   "source": [
    "The following cell converts each list of kmers into sentences to be fed into CountVectorizer. The labels are also saved to be fed into the classifers later on."
   ]
  },
  {
   "cell_type": "code",
   "execution_count": 6,
   "metadata": {},
   "outputs": [],
   "source": [
    "kmer_sentences = list(df_resample['kmers'])\n",
    "for x in range(len(kmer_sentences)):\n",
    "    kmer_sentences[x] = ' '.join(kmer_sentences[x])\n",
    "\n",
    "labels = df_resample.iloc[:,0].values"
   ]
  },
  {
   "cell_type": "markdown",
   "metadata": {},
   "source": [
    "The following cell counts kmer occurences in the sentences using CountVectorizer and performs Min-Max normalization on the vectors. The normalized kmer distributions are displayed below in lexicographic order."
   ]
  },
  {
   "cell_type": "code",
   "execution_count": 7,
   "metadata": {},
   "outputs": [
    {
     "data": {
      "text/html": [
       "<div>\n",
       "<style scoped>\n",
       "    .dataframe tbody tr th:only-of-type {\n",
       "        vertical-align: middle;\n",
       "    }\n",
       "\n",
       "    .dataframe tbody tr th {\n",
       "        vertical-align: top;\n",
       "    }\n",
       "\n",
       "    .dataframe thead th {\n",
       "        text-align: right;\n",
       "    }\n",
       "</style>\n",
       "<table border=\"1\" class=\"dataframe\">\n",
       "  <thead>\n",
       "    <tr style=\"text-align: right;\">\n",
       "      <th></th>\n",
       "      <th>aaa</th>\n",
       "      <th>aac</th>\n",
       "      <th>aag</th>\n",
       "      <th>aat</th>\n",
       "      <th>aca</th>\n",
       "      <th>acc</th>\n",
       "      <th>acg</th>\n",
       "      <th>act</th>\n",
       "      <th>aga</th>\n",
       "      <th>agc</th>\n",
       "      <th>...</th>\n",
       "      <th>tcg</th>\n",
       "      <th>tct</th>\n",
       "      <th>tga</th>\n",
       "      <th>tgc</th>\n",
       "      <th>tgg</th>\n",
       "      <th>tgt</th>\n",
       "      <th>tta</th>\n",
       "      <th>ttc</th>\n",
       "      <th>ttg</th>\n",
       "      <th>ttt</th>\n",
       "    </tr>\n",
       "  </thead>\n",
       "  <tbody>\n",
       "    <tr>\n",
       "      <th>0</th>\n",
       "      <td>0.033285</td>\n",
       "      <td>0.122857</td>\n",
       "      <td>0.225397</td>\n",
       "      <td>0.328255</td>\n",
       "      <td>0.346028</td>\n",
       "      <td>0.000000</td>\n",
       "      <td>0.434501</td>\n",
       "      <td>0.199643</td>\n",
       "      <td>0.203277</td>\n",
       "      <td>0.241497</td>\n",
       "      <td>...</td>\n",
       "      <td>0.079112</td>\n",
       "      <td>0.186327</td>\n",
       "      <td>0.328908</td>\n",
       "      <td>0.367347</td>\n",
       "      <td>0.107819</td>\n",
       "      <td>0.013310</td>\n",
       "      <td>0.260073</td>\n",
       "      <td>0.431429</td>\n",
       "      <td>0.090318</td>\n",
       "      <td>0.416183</td>\n",
       "    </tr>\n",
       "    <tr>\n",
       "      <th>1</th>\n",
       "      <td>0.000000</td>\n",
       "      <td>0.133837</td>\n",
       "      <td>0.296403</td>\n",
       "      <td>0.269135</td>\n",
       "      <td>0.228685</td>\n",
       "      <td>0.000000</td>\n",
       "      <td>0.347797</td>\n",
       "      <td>0.195737</td>\n",
       "      <td>0.175925</td>\n",
       "      <td>0.152002</td>\n",
       "      <td>...</td>\n",
       "      <td>0.000000</td>\n",
       "      <td>0.190575</td>\n",
       "      <td>0.335372</td>\n",
       "      <td>0.371594</td>\n",
       "      <td>0.038173</td>\n",
       "      <td>0.000000</td>\n",
       "      <td>0.263080</td>\n",
       "      <td>0.392775</td>\n",
       "      <td>0.104651</td>\n",
       "      <td>0.420994</td>\n",
       "    </tr>\n",
       "    <tr>\n",
       "      <th>2</th>\n",
       "      <td>0.042695</td>\n",
       "      <td>0.230326</td>\n",
       "      <td>0.165212</td>\n",
       "      <td>0.642670</td>\n",
       "      <td>0.118362</td>\n",
       "      <td>0.173647</td>\n",
       "      <td>0.145394</td>\n",
       "      <td>0.157592</td>\n",
       "      <td>0.260748</td>\n",
       "      <td>0.034419</td>\n",
       "      <td>...</td>\n",
       "      <td>0.253696</td>\n",
       "      <td>0.119503</td>\n",
       "      <td>0.109693</td>\n",
       "      <td>0.033657</td>\n",
       "      <td>0.207452</td>\n",
       "      <td>0.051218</td>\n",
       "      <td>0.381259</td>\n",
       "      <td>0.138351</td>\n",
       "      <td>0.126385</td>\n",
       "      <td>0.305056</td>\n",
       "    </tr>\n",
       "    <tr>\n",
       "      <th>3</th>\n",
       "      <td>0.091885</td>\n",
       "      <td>0.260888</td>\n",
       "      <td>0.133333</td>\n",
       "      <td>0.310005</td>\n",
       "      <td>0.541298</td>\n",
       "      <td>0.093427</td>\n",
       "      <td>0.338980</td>\n",
       "      <td>0.296761</td>\n",
       "      <td>0.155878</td>\n",
       "      <td>0.111111</td>\n",
       "      <td>...</td>\n",
       "      <td>0.109196</td>\n",
       "      <td>0.157167</td>\n",
       "      <td>0.136196</td>\n",
       "      <td>0.181087</td>\n",
       "      <td>0.173624</td>\n",
       "      <td>0.000000</td>\n",
       "      <td>0.358974</td>\n",
       "      <td>0.233944</td>\n",
       "      <td>0.101998</td>\n",
       "      <td>0.246193</td>\n",
       "    </tr>\n",
       "    <tr>\n",
       "      <th>4</th>\n",
       "      <td>0.000000</td>\n",
       "      <td>0.078621</td>\n",
       "      <td>0.187512</td>\n",
       "      <td>0.459926</td>\n",
       "      <td>0.307058</td>\n",
       "      <td>0.000000</td>\n",
       "      <td>0.534346</td>\n",
       "      <td>0.178862</td>\n",
       "      <td>0.338220</td>\n",
       "      <td>0.178583</td>\n",
       "      <td>...</td>\n",
       "      <td>0.000000</td>\n",
       "      <td>0.310017</td>\n",
       "      <td>0.240790</td>\n",
       "      <td>0.218288</td>\n",
       "      <td>0.029899</td>\n",
       "      <td>0.022145</td>\n",
       "      <td>0.216360</td>\n",
       "      <td>0.256367</td>\n",
       "      <td>0.081968</td>\n",
       "      <td>0.461640</td>\n",
       "    </tr>\n",
       "  </tbody>\n",
       "</table>\n",
       "<p>5 rows × 67 columns</p>\n",
       "</div>"
      ],
      "text/plain": [
       "        aaa       aac       aag       aat       aca       acc       acg  \\\n",
       "0  0.033285  0.122857  0.225397  0.328255  0.346028  0.000000  0.434501   \n",
       "1  0.000000  0.133837  0.296403  0.269135  0.228685  0.000000  0.347797   \n",
       "2  0.042695  0.230326  0.165212  0.642670  0.118362  0.173647  0.145394   \n",
       "3  0.091885  0.260888  0.133333  0.310005  0.541298  0.093427  0.338980   \n",
       "4  0.000000  0.078621  0.187512  0.459926  0.307058  0.000000  0.534346   \n",
       "\n",
       "        act       aga       agc  ...       tcg       tct       tga       tgc  \\\n",
       "0  0.199643  0.203277  0.241497  ...  0.079112  0.186327  0.328908  0.367347   \n",
       "1  0.195737  0.175925  0.152002  ...  0.000000  0.190575  0.335372  0.371594   \n",
       "2  0.157592  0.260748  0.034419  ...  0.253696  0.119503  0.109693  0.033657   \n",
       "3  0.296761  0.155878  0.111111  ...  0.109196  0.157167  0.136196  0.181087   \n",
       "4  0.178862  0.338220  0.178583  ...  0.000000  0.310017  0.240790  0.218288   \n",
       "\n",
       "        tgg       tgt       tta       ttc       ttg       ttt  \n",
       "0  0.107819  0.013310  0.260073  0.431429  0.090318  0.416183  \n",
       "1  0.038173  0.000000  0.263080  0.392775  0.104651  0.420994  \n",
       "2  0.207452  0.051218  0.381259  0.138351  0.126385  0.305056  \n",
       "3  0.173624  0.000000  0.358974  0.233944  0.101998  0.246193  \n",
       "4  0.029899  0.022145  0.216360  0.256367  0.081968  0.461640  \n",
       "\n",
       "[5 rows x 67 columns]"
      ]
     },
     "execution_count": 7,
     "metadata": {},
     "output_type": "execute_result"
    }
   ],
   "source": [
    "c = CountVectorizer(ngram_range=(1,1))\n",
    "x = c.fit_transform(kmer_sentences)\n",
    "\n",
    "x_normalized = normalize(x, norm='l1')\n",
    "scaler = MaxAbsScaler()\n",
    "x_scaled = scaler.fit_transform(x_normalized)\n",
    "scaled_df_unsorted = pd.DataFrame(x_scaled.toarray(), columns=c.vocabulary_)\n",
    "scaled_df = scaled_df_unsorted.reindex(sorted(scaled_df_unsorted.columns), axis=1)\n",
    "scaled_df.head()"
   ]
  },
  {
   "cell_type": "markdown",
   "metadata": {},
   "source": [
    "The following cell builds and tests the Support Vector Classifier on the kmer distribution data. The accuracy, classification report, and confusion matrix are displayed below."
   ]
  },
  {
   "cell_type": "code",
   "execution_count": 14,
   "metadata": {},
   "outputs": [
    {
     "name": "stdout",
     "output_type": "stream",
     "text": [
      "Accuracy using SVM = 0.9424778761061947\n",
      "              precision    recall  f1-score   support\n",
      "\n",
      "           0       0.94      0.95      0.94       228\n",
      "           1       0.95      0.94      0.94       224\n",
      "\n",
      "    accuracy                           0.94       452\n",
      "   macro avg       0.94      0.94      0.94       452\n",
      "weighted avg       0.94      0.94      0.94       452\n",
      "\n"
     ]
    },
    {
     "data": {
      "image/png": "[encoded data removed]",
      "text/plain": [
       "<Figure size 640x480 with 2 Axes>"
      ]
     },
     "metadata": {},
     "output_type": "display_data"
    }
   ],
   "source": [
    "clf = SVC(C=1.0, kernel='linear', gamma=0.05)\n",
    "\n",
    "X_train, X_test, Y_train, Y_test = train_test_split(x_scaled, labels, test_size = 0.15, random_state=seed)\n",
    "clf.fit(X_train, Y_train)\n",
    "Y_pred = clf.predict(X_test)\n",
    "print('Accuracy using SVM =', accuracy_score(Y_test, Y_pred))\n",
    "\n",
    "print(classification_report(Y_test, Y_pred))\n",
    "\n",
    "cf = confusion_matrix(Y_test, Y_pred)\n",
    "ax = plt.subplot()\n",
    "sns.heatmap(cf, annot=True, fmt='d', ax=ax, linewidths=5, cmap=\"Blues\", center=0)\n",
    "ax.set_xlabel('Predicted Labels')\n",
    "ax.set_ylabel('True Labels')\n",
    "ax.set_title('Confusion Matrix for SVM')\n",
    "ax.xaxis.set_ticklabels(['LOT', 'HOT'])\n",
    "ax.yaxis.set_ticklabels(['LOT', 'HOT'])\n",
    "plt.show()"
   ]
  },
  {
   "cell_type": "markdown",
   "metadata": {},
   "source": [
    "The following cell builds and tests a cross validated Support Vector Classifier on the kmer distribution data with 5 folds. Average accuracy, precision, recall, and f-1 scores are displayed below."
   ]
  },
  {
   "cell_type": "code",
   "execution_count": 10,
   "metadata": {},
   "outputs": [],
   "source": [
    "# scores = cross_validate(clf, x, labels, cv=5, scoring=['accuracy','precision','recall','f1'])\n",
    "# print(\"Cross validation produces an average of:\")\n",
    "# print(\"\\t%0.2f accuracy\" % scores['test_accuracy'].mean())\n",
    "# print(\"\\t%0.2f precision\" % scores['test_precision'].mean())\n",
    "# print(\"\\t%0.2f recall\" % scores['test_recall'].mean())\n",
    "# print(\"\\t%0.2f f1\" % scores['test_f1'].mean())"
   ]
  },
  {
   "cell_type": "markdown",
   "metadata": {},
   "source": [
    "The following cell builds and tests the Random Forest Classifier on the kmer distribution data. The model's accuracy and classification report are displayed below."
   ]
  },
  {
   "cell_type": "code",
   "execution_count": 12,
   "metadata": {},
   "outputs": [
    {
     "name": "stdout",
     "output_type": "stream",
     "text": [
      "Accuracy using Random Forest = 0.9469026548672567\n",
      "              precision    recall  f1-score   support\n",
      "\n",
      "           0       0.94      0.96      0.95       228\n",
      "           1       0.95      0.94      0.95       224\n",
      "\n",
      "    accuracy                           0.95       452\n",
      "   macro avg       0.95      0.95      0.95       452\n",
      "weighted avg       0.95      0.95      0.95       452\n",
      "\n"
     ]
    }
   ],
   "source": [
    "clf = RandomForestClassifier(n_estimators = 300)\n",
    "clf.fit(X_train, Y_train)\n",
    "Y_pred = clf.predict(X_test)\n",
    "print('Accuracy using Random Forest =', accuracy_score(Y_test, Y_pred))\n",
    "\n",
    "print(classification_report(Y_test, Y_pred))"
   ]
  },
  {
   "cell_type": "markdown",
   "metadata": {},
   "source": [
    "The following cell builds and tests a cross validated Random Forest Classifier on the kmer distribution data with 5 folds. Average accuracy, precision, recall, and f-1 scores are displayed below."
   ]
  },
  {
   "cell_type": "code",
   "execution_count": 13,
   "metadata": {},
   "outputs": [],
   "source": [
    "# scores = cross_validate(clf, x, labels, cv=5, scoring=['accuracy','precision','recall','f1'])\n",
    "# print(\"Cross validation produces an average of:\")\n",
    "# print(\"\\t%0.2f accuracy\" % scores['test_accuracy'].mean())\n",
    "# print(\"\\t%0.2f precision\" % scores['test_precision'].mean())\n",
    "# print(\"\\t%0.2f recall\" % scores['test_recall'].mean())\n",
    "# print(\"\\t%0.2f f1\" % scores['test_f1'].mean())"
   ]
  },
  {
   "cell_type": "code",
   "execution_count": null,
   "metadata": {},
   "outputs": [],
   "source": []
  }
 ],
 "metadata": {
  "colab": {
   "collapsed_sections": [],
   "name": "1A. Distribution of First Digits.ipynb",
   "provenance": []
  },
  "kernelspec": {
   "display_name": "Python 3 (ipykernel)",
   "language": "python",
   "name": "python3"
  },
  "language_info": {
   "codemirror_mode": {
    "name": "ipython",
    "version": 3
   },
   "file_extension": ".py",
   "mimetype": "text/x-python",
   "name": "python",
   "nbconvert_exporter": "python",
   "pygments_lexer": "ipython3",
   "version": "3.9.13"
  }
 },
 "nbformat": 4,
 "nbformat_minor": 4
}
