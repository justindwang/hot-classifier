{
 "cells": [
  {
   "cell_type": "markdown",
   "metadata": {
    "colab_type": "text",
    "id": "__1JBcfGnOHj"
   },
   "source": [
    "# HOT Region Classification"
   ]
  },
  {
   "cell_type": "code",
   "execution_count": 15,
   "metadata": {},
   "outputs": [],
   "source": [
    "# File names and parameters\n",
    "input_hot = 'hot_regions_05_any.fa'\n",
    "input_lot = 'lot_regions_05_any.fa'\n",
    "kmer_length = 5\n",
    "sampling_percentage = 0.05\n",
    "seed = 35"
   ]
  },
  {
   "cell_type": "code",
   "execution_count": 2,
   "metadata": {},
   "outputs": [],
   "source": [
    "from Bio.SeqIO.FastaIO import SimpleFastaParser\n",
    "\n",
    "# Parsing Fasta files and building lists of sequences\n",
    "with open(input_hot) as fasta_file:\n",
    "    hot_sequences = []\n",
    "    for title, sequence in SimpleFastaParser(fasta_file):\n",
    "        hot_sequences.append(sequence)\n",
    "\n",
    "with open(input_lot) as fasta_file:\n",
    "    lot_sequences = []\n",
    "    for title, sequence in SimpleFastaParser(fasta_file):\n",
    "        lot_sequences.append(sequence)"
   ]
  },
  {
   "cell_type": "code",
   "execution_count": 3,
   "metadata": {},
   "outputs": [
    {
     "data": {
      "text/plain": [
       "1    129356\n",
       "0    123795\n",
       "Name: label, dtype: int64"
      ]
     },
     "execution_count": 3,
     "metadata": {},
     "output_type": "execute_result"
    }
   ],
   "source": [
    "import pandas as pd\n",
    "\n",
    "# Building dataframe of sequences with labels\n",
    "df_hot = pd.DataFrame(hot_sequences, columns=['sequence'])\n",
    "df_hot['label'] = 1\n",
    "\n",
    "df_lot = pd.DataFrame(lot_sequences, columns=['sequence'])\n",
    "df_lot['label'] = 0\n",
    "\n",
    "df1 = pd.concat([df_hot, df_lot])\n",
    "df1.label.value_counts()"
   ]
  },
  {
   "cell_type": "code",
   "execution_count": 4,
   "metadata": {},
   "outputs": [
    {
     "data": {
      "text/plain": [
       "1    6189\n",
       "0    6189\n",
       "Name: label, dtype: int64"
      ]
     },
     "execution_count": 4,
     "metadata": {},
     "output_type": "execute_result"
    }
   ],
   "source": [
    "from sklearn.utils import resample\n",
    "\n",
    "# downsampling majority class\n",
    "df_majority = df_hot.sample(n=int(df_hot.shape[0]*sampling_percentage), random_state=seed)\n",
    "df_minority = df_lot.sample(n=int(df_lot.shape[0]*sampling_percentage), random_state=seed)\n",
    "\n",
    "df_majority_downsampled = resample(df_majority, replace=False, n_samples=df_minority.shape[0], random_state=seed)\n",
    "\n",
    "df_resample = pd.concat([df_majority_downsampled, df_minority])\n",
    "df_resample.label.value_counts()"
   ]
  },
  {
   "cell_type": "code",
   "execution_count": 5,
   "metadata": {},
   "outputs": [
    {
     "data": {
      "text/html": [
       "<div>\n",
       "<style scoped>\n",
       "    .dataframe tbody tr th:only-of-type {\n",
       "        vertical-align: middle;\n",
       "    }\n",
       "\n",
       "    .dataframe tbody tr th {\n",
       "        vertical-align: top;\n",
       "    }\n",
       "\n",
       "    .dataframe thead th {\n",
       "        text-align: right;\n",
       "    }\n",
       "</style>\n",
       "<table border=\"1\" class=\"dataframe\">\n",
       "  <thead>\n",
       "    <tr style=\"text-align: right;\">\n",
       "      <th></th>\n",
       "      <th>label</th>\n",
       "      <th>kmers</th>\n",
       "    </tr>\n",
       "  </thead>\n",
       "  <tbody>\n",
       "    <tr>\n",
       "      <th>0</th>\n",
       "      <td>1</td>\n",
       "      <td>[tcaaa, caaaa, aaaaa, aaaag, aaagc, aagcc, agc...</td>\n",
       "    </tr>\n",
       "    <tr>\n",
       "      <th>1</th>\n",
       "      <td>1</td>\n",
       "      <td>[cacta, actac, ctacc, taccc, accca, cccag, cca...</td>\n",
       "    </tr>\n",
       "    <tr>\n",
       "      <th>2</th>\n",
       "      <td>1</td>\n",
       "      <td>[gatct, atctc, tctca, ctcat, tcatg, catgt, atg...</td>\n",
       "    </tr>\n",
       "    <tr>\n",
       "      <th>3</th>\n",
       "      <td>1</td>\n",
       "      <td>[acaga, cagaa, agaaa, gaaac, aaacc, aaccc, acc...</td>\n",
       "    </tr>\n",
       "    <tr>\n",
       "      <th>4</th>\n",
       "      <td>1</td>\n",
       "      <td>[cggtg, ggtgt, gtgtc, tgtca, gtcat, tcatt, cat...</td>\n",
       "    </tr>\n",
       "  </tbody>\n",
       "</table>\n",
       "</div>"
      ],
      "text/plain": [
       "   label                                              kmers\n",
       "0      1  [tcaaa, caaaa, aaaaa, aaaag, aaagc, aagcc, agc...\n",
       "1      1  [cacta, actac, ctacc, taccc, accca, cccag, cca...\n",
       "2      1  [gatct, atctc, tctca, ctcat, tcatg, catgt, atg...\n",
       "3      1  [acaga, cagaa, agaaa, gaaac, aaacc, aaccc, acc...\n",
       "4      1  [cggtg, ggtgt, gtgtc, tgtca, gtcat, tcatt, cat..."
      ]
     },
     "execution_count": 5,
     "metadata": {},
     "output_type": "execute_result"
    }
   ],
   "source": [
    "# Helper function for extracting kmers from a sequence\n",
    "def kmers(seq, length):\n",
    "    return [seq[i:i+length].lower() for i in range(len(seq)-length+1)]\n",
    "\n",
    "# Replacing sequences with kmers\n",
    "df_resample['kmers'] = df_resample.apply(lambda a: kmers(a['sequence'], kmer_length), axis=1)\n",
    "df_resample.drop('sequence',axis=1, inplace=True)\n",
    "df_resample = df_resample.reset_index()\n",
    "df_resample.drop('index', axis=1, inplace=True)\n",
    "df_resample.head()"
   ]
  },
  {
   "cell_type": "code",
   "execution_count": 6,
   "metadata": {},
   "outputs": [],
   "source": [
    "# Converting list of kmers into sentences for TfidfVectorizer\n",
    "kmer_sentences = list(df_resample['kmers'])\n",
    "for x in range(len(kmer_sentences)):\n",
    "    kmer_sentences[x] = ' '.join(kmer_sentences[x])\n",
    "\n",
    "# Grabbing labels from dataframe\n",
    "labels = df_resample.iloc[:,0].values"
   ]
  },
  {
   "cell_type": "code",
   "execution_count": 7,
   "metadata": {},
   "outputs": [
    {
     "data": {
      "text/html": [
       "<div>\n",
       "<style scoped>\n",
       "    .dataframe tbody tr th:only-of-type {\n",
       "        vertical-align: middle;\n",
       "    }\n",
       "\n",
       "    .dataframe tbody tr th {\n",
       "        vertical-align: top;\n",
       "    }\n",
       "\n",
       "    .dataframe thead th {\n",
       "        text-align: right;\n",
       "    }\n",
       "</style>\n",
       "<table border=\"1\" class=\"dataframe\">\n",
       "  <thead>\n",
       "    <tr style=\"text-align: right;\">\n",
       "      <th></th>\n",
       "      <th>0</th>\n",
       "      <th>1</th>\n",
       "      <th>2</th>\n",
       "      <th>3</th>\n",
       "      <th>4</th>\n",
       "      <th>5</th>\n",
       "      <th>6</th>\n",
       "      <th>7</th>\n",
       "      <th>8</th>\n",
       "      <th>9</th>\n",
       "      <th>...</th>\n",
       "      <th>260655</th>\n",
       "      <th>260656</th>\n",
       "      <th>260657</th>\n",
       "      <th>260658</th>\n",
       "      <th>260659</th>\n",
       "      <th>260660</th>\n",
       "      <th>260661</th>\n",
       "      <th>260662</th>\n",
       "      <th>260663</th>\n",
       "      <th>260664</th>\n",
       "    </tr>\n",
       "  </thead>\n",
       "  <tbody>\n",
       "    <tr>\n",
       "      <th>0</th>\n",
       "      <td>0.020915</td>\n",
       "      <td>0.0</td>\n",
       "      <td>0.0</td>\n",
       "      <td>0.104527</td>\n",
       "      <td>0.0</td>\n",
       "      <td>0.0</td>\n",
       "      <td>0.0</td>\n",
       "      <td>0.0</td>\n",
       "      <td>0.0</td>\n",
       "      <td>0.0</td>\n",
       "      <td>...</td>\n",
       "      <td>0.0</td>\n",
       "      <td>0.0</td>\n",
       "      <td>0.0</td>\n",
       "      <td>0.0</td>\n",
       "      <td>0.0</td>\n",
       "      <td>0.0</td>\n",
       "      <td>0.0</td>\n",
       "      <td>0.0</td>\n",
       "      <td>0.0</td>\n",
       "      <td>0.0</td>\n",
       "    </tr>\n",
       "    <tr>\n",
       "      <th>1</th>\n",
       "      <td>0.000000</td>\n",
       "      <td>0.0</td>\n",
       "      <td>0.0</td>\n",
       "      <td>0.000000</td>\n",
       "      <td>0.0</td>\n",
       "      <td>0.0</td>\n",
       "      <td>0.0</td>\n",
       "      <td>0.0</td>\n",
       "      <td>0.0</td>\n",
       "      <td>0.0</td>\n",
       "      <td>...</td>\n",
       "      <td>0.0</td>\n",
       "      <td>0.0</td>\n",
       "      <td>0.0</td>\n",
       "      <td>0.0</td>\n",
       "      <td>0.0</td>\n",
       "      <td>0.0</td>\n",
       "      <td>0.0</td>\n",
       "      <td>0.0</td>\n",
       "      <td>0.0</td>\n",
       "      <td>0.0</td>\n",
       "    </tr>\n",
       "    <tr>\n",
       "      <th>2</th>\n",
       "      <td>0.000000</td>\n",
       "      <td>0.0</td>\n",
       "      <td>0.0</td>\n",
       "      <td>0.000000</td>\n",
       "      <td>0.0</td>\n",
       "      <td>0.0</td>\n",
       "      <td>0.0</td>\n",
       "      <td>0.0</td>\n",
       "      <td>0.0</td>\n",
       "      <td>0.0</td>\n",
       "      <td>...</td>\n",
       "      <td>0.0</td>\n",
       "      <td>0.0</td>\n",
       "      <td>0.0</td>\n",
       "      <td>0.0</td>\n",
       "      <td>0.0</td>\n",
       "      <td>0.0</td>\n",
       "      <td>0.0</td>\n",
       "      <td>0.0</td>\n",
       "      <td>0.0</td>\n",
       "      <td>0.0</td>\n",
       "    </tr>\n",
       "    <tr>\n",
       "      <th>3</th>\n",
       "      <td>0.000000</td>\n",
       "      <td>0.0</td>\n",
       "      <td>0.0</td>\n",
       "      <td>0.000000</td>\n",
       "      <td>0.0</td>\n",
       "      <td>0.0</td>\n",
       "      <td>0.0</td>\n",
       "      <td>0.0</td>\n",
       "      <td>0.0</td>\n",
       "      <td>0.0</td>\n",
       "      <td>...</td>\n",
       "      <td>0.0</td>\n",
       "      <td>0.0</td>\n",
       "      <td>0.0</td>\n",
       "      <td>0.0</td>\n",
       "      <td>0.0</td>\n",
       "      <td>0.0</td>\n",
       "      <td>0.0</td>\n",
       "      <td>0.0</td>\n",
       "      <td>0.0</td>\n",
       "      <td>0.0</td>\n",
       "    </tr>\n",
       "    <tr>\n",
       "      <th>4</th>\n",
       "      <td>0.000000</td>\n",
       "      <td>0.0</td>\n",
       "      <td>0.0</td>\n",
       "      <td>0.000000</td>\n",
       "      <td>0.0</td>\n",
       "      <td>0.0</td>\n",
       "      <td>0.0</td>\n",
       "      <td>0.0</td>\n",
       "      <td>0.0</td>\n",
       "      <td>0.0</td>\n",
       "      <td>...</td>\n",
       "      <td>0.0</td>\n",
       "      <td>0.0</td>\n",
       "      <td>0.0</td>\n",
       "      <td>0.0</td>\n",
       "      <td>0.0</td>\n",
       "      <td>0.0</td>\n",
       "      <td>0.0</td>\n",
       "      <td>0.0</td>\n",
       "      <td>0.0</td>\n",
       "      <td>0.0</td>\n",
       "    </tr>\n",
       "  </tbody>\n",
       "</table>\n",
       "<p>5 rows × 260665 columns</p>\n",
       "</div>"
      ],
      "text/plain": [
       "     0       1       2         3       4       5       6       7       8       \\\n",
       "0  0.020915     0.0     0.0  0.104527     0.0     0.0     0.0     0.0     0.0   \n",
       "1  0.000000     0.0     0.0  0.000000     0.0     0.0     0.0     0.0     0.0   \n",
       "2  0.000000     0.0     0.0  0.000000     0.0     0.0     0.0     0.0     0.0   \n",
       "3  0.000000     0.0     0.0  0.000000     0.0     0.0     0.0     0.0     0.0   \n",
       "4  0.000000     0.0     0.0  0.000000     0.0     0.0     0.0     0.0     0.0   \n",
       "\n",
       "   9       ...  260655  260656  260657  260658  260659  260660  260661  \\\n",
       "0     0.0  ...     0.0     0.0     0.0     0.0     0.0     0.0     0.0   \n",
       "1     0.0  ...     0.0     0.0     0.0     0.0     0.0     0.0     0.0   \n",
       "2     0.0  ...     0.0     0.0     0.0     0.0     0.0     0.0     0.0   \n",
       "3     0.0  ...     0.0     0.0     0.0     0.0     0.0     0.0     0.0   \n",
       "4     0.0  ...     0.0     0.0     0.0     0.0     0.0     0.0     0.0   \n",
       "\n",
       "   260662  260663  260664  \n",
       "0     0.0     0.0     0.0  \n",
       "1     0.0     0.0     0.0  \n",
       "2     0.0     0.0     0.0  \n",
       "3     0.0     0.0     0.0  \n",
       "4     0.0     0.0     0.0  \n",
       "\n",
       "[5 rows x 260665 columns]"
      ]
     },
     "execution_count": 7,
     "metadata": {},
     "output_type": "execute_result"
    }
   ],
   "source": [
    "from sklearn.feature_extraction.text import CountVectorizer\n",
    "from sklearn.preprocessing import normalize\n",
    "from sklearn.preprocessing import MaxAbsScaler\n",
    "\n",
    "# Vectorizing the kmer sentences\n",
    "c = CountVectorizer(ngram_range=(kmer_length,kmer_length))\n",
    "x = c.fit_transform(kmer_sentences)\n",
    "\n",
    "x_normalized = normalize(x, norm='l1')\n",
    "scaler = MaxAbsScaler()\n",
    "x_scaled = scaler.fit_transform(x_normalized)\n",
    "pd.DataFrame(x_scaled.toarray()).head()"
   ]
  },
  {
   "cell_type": "code",
   "execution_count": 8,
   "metadata": {},
   "outputs": [],
   "source": [
    "from sklearn.model_selection import train_test_split\n",
    "from sklearn.svm import SVC\n",
    "from sklearn.metrics import accuracy_score, confusion_matrix, classification_report\n",
    "from sklearn.model_selection import cross_validate\n",
    "\n",
    "clf = SVC(C=1.0, kernel='linear', gamma=0.05)\n",
    "\n",
    "# Making train and sets (For singly trained models only)\n",
    "X_train, X_test, Y_train, Y_test = train_test_split(x_scaled, labels, test_size = 0.15, random_state=seed)"
   ]
  },
  {
   "cell_type": "code",
   "execution_count": 9,
   "metadata": {},
   "outputs": [],
   "source": [
    "# # Singly trained SVM model\n",
    "\n",
    "# clf.fit(X_train, Y_train)\n",
    "# Y_pred = clf.predict(X_test)\n",
    "# print('Accuracy using SVM =', accuracy_score(Y_test, Y_pred))\n",
    "\n",
    "# # Print Classification Report\n",
    "# print(classification_report(Y_test, Y_pred))\n",
    "\n",
    "# import matplotlib.pyplot as plt\n",
    "# import seaborn as sns\n",
    "\n",
    "# # Plot Confusion matrix heatmap\n",
    "# cf = confusion_matrix(Y_test, Y_pred)\n",
    "# ax = plt.subplot()\n",
    "# sns.heatmap(cf, annot=True, fmt='d', ax=ax, linewidths=5, cmap=\"Blues\", center=0)\n",
    "# ax.set_xlabel('Predicted Labels')\n",
    "# ax.set_ylabel('True Labels')\n",
    "# ax.set_title('Confusion Matrix for SVM')\n",
    "# ax.xaxis.set_ticklabels(['Negative', 'Positive'])\n",
    "# ax.yaxis.set_ticklabels(['Negative', 'Positive'])\n",
    "# plt.show()"
   ]
  },
  {
   "cell_type": "code",
   "execution_count": 10,
   "metadata": {},
   "outputs": [
    {
     "name": "stdout",
     "output_type": "stream",
     "text": [
      "Cross validation produces an average of:\n",
      "\t0.75 accuracy\n",
      "\t0.74 precision\n",
      "\t0.76 recall\n",
      "\t0.75 f1\n"
     ]
    }
   ],
   "source": [
    "# Cross Validated SVM Model\n",
    "\n",
    "scores = cross_validate(clf, x, labels, cv=5, scoring=['accuracy','precision','recall','f1'])\n",
    "print(\"Cross validation produces an average of:\")\n",
    "print(\"\\t%0.2f accuracy\" % scores['test_accuracy'].mean())\n",
    "print(\"\\t%0.2f precision\" % scores['test_precision'].mean())\n",
    "print(\"\\t%0.2f recall\" % scores['test_recall'].mean())\n",
    "print(\"\\t%0.2f f1\" % scores['test_f1'].mean())"
   ]
  },
  {
   "cell_type": "code",
   "execution_count": 11,
   "metadata": {},
   "outputs": [],
   "source": [
    "from sklearn.ensemble import RandomForestClassifier\n",
    "\n",
    "clf = RandomForestClassifier(n_estimators = 300)"
   ]
  },
  {
   "cell_type": "code",
   "execution_count": 12,
   "metadata": {},
   "outputs": [],
   "source": [
    "# # Singly trained Random Forest model\n",
    "# clf.fit(X_train, Y_train)\n",
    "# Y_pred = clf.predict(X_test)\n",
    "# print('Accuracy using Random Forest =', accuracy_score(Y_test, Y_pred))\n",
    "\n",
    "# # Print Classification Report\n",
    "# print(classification_report(Y_test, Y_pred))"
   ]
  },
  {
   "cell_type": "code",
   "execution_count": 13,
   "metadata": {},
   "outputs": [
    {
     "name": "stdout",
     "output_type": "stream",
     "text": [
      "Cross validation produces an average of:\n",
      "\t0.69 accuracy\n",
      "\t0.81 precision\n",
      "\t0.50 recall\n",
      "\t0.62 f1\n"
     ]
    }
   ],
   "source": [
    "# Cross Validated Random Forest Model\n",
    "\n",
    "scores = cross_validate(clf, x, labels, cv=5, scoring=['accuracy','precision','recall','f1'])\n",
    "print(\"Cross validation produces an average of:\")\n",
    "print(\"\\t%0.2f accuracy\" % scores['test_accuracy'].mean())\n",
    "print(\"\\t%0.2f precision\" % scores['test_precision'].mean())\n",
    "print(\"\\t%0.2f recall\" % scores['test_recall'].mean())\n",
    "print(\"\\t%0.2f f1\" % scores['test_f1'].mean())"
   ]
  }
 ],
 "metadata": {
  "colab": {
   "collapsed_sections": [],
   "name": "1A. Distribution of First Digits.ipynb",
   "provenance": []
  },
  "kernelspec": {
   "display_name": "Python 3 (ipykernel)",
   "language": "python",
   "name": "python3"
  },
  "language_info": {
   "codemirror_mode": {
    "name": "ipython",
    "version": 3
   },
   "file_extension": ".py",
   "mimetype": "text/x-python",
   "name": "python",
   "nbconvert_exporter": "python",
   "pygments_lexer": "ipython3",
   "version": "3.9.13"
  }
 },
 "nbformat": 4,
 "nbformat_minor": 4
}
